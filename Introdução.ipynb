{
 "cells": [
  {
   "cell_type": "markdown",
   "metadata": {},
   "source": [
    "# Introdução"
   ]
  },
  {
   "cell_type": "markdown",
   "metadata": {},
   "source": [
    "<p>Dominar uma ferramenta gráfica pode ser de grande valia no dia a dia, seja no lado profissional, acadêmico ou mesmo no pessoal, conseguir construir um trabalho de ilustração pode ser algo magnífico de diversas formas. E se essa ferramenta for cheia de funcionalidades, não lhe obrigar a comprar um super computador para utilizá-la e, além disso, for gratuita? Popularmente os softwares de manipulação gráfica são pesos pesados para a maioria dos computadores, consomem um monte de memória e suas licenças custam uma fortuna. E é aí que entra o Inkscape, uma poderosa ferramenta gráfica de código aberto, gratuita e que vai rodar mesmo naquele seu computador mais modesto e que já tem bons anos de uso. </p>\n",
    "    \n",
    "<p>O Inkscape é um software de edição vetorial semelhante ao Corel Draw e Illustrator e que tem como suas principais características a quantidade de funcionalidades e a leveza, além de ter seu código aberto sob licença GPL. Apesar disso, são escassos os materiais para quem quem deseja começar a utilizá-lo, tendo muitas vezes que recorrer a documentações que por si só documentam funcionalidades, mas que não ensinam aos usuários leigos sobre como colocá-las em prática de uma maneira mais intuitiva. Mesmo lá fora, são pouquíssimos os livros que tratam desta maravilhosa ferramenta. E foi pensando nisso que os autores deste livro, usuários do Inkscape de longa data, decidiram abdicar de seu tempo livre para escrever um livro que pudesse se tornar o primeiro guia completo e em português sobre o Inkscape, tratando desde as funcionalidades mais básicas as mais avançadas de maneira clara e intuitiva, que pudesse ajudar tanto os iniciantes quanto aqueles que já tinham alguma afinidade com o mesmo e que quisessem seguir novos horizontes.</p>\n",
    "    \n",
    "<p>Todo livro é escrito com base em uma abordagem prática seguida por conceitos, sempre com passo a passo, permitindo que o leitor implemente facilmente os exemplos apresentados. O nível aumenta com o passar dos capítulos, porém, sem perder a característica de guia, tornando-se assim um manual de funcionalidades. Para melhorar o entendimento sobre algumas ferramentas também serão utilizados conceitos da matemática e computação. \n",
    "Inicialmente são apresentados os conceitos básicos da SVG, formato de arquivos vetoriais nativo do Inkscape, passando pela instalação nas mais variadas plataformas e pelo trabalho com as principais ferramentas e características, finalizando com um capítulo especial com funcionalidades para desenvolvedores web. Este livro não possui pré-requisitos, exceto para alguns conteúdos voltados para profissionais e entusiastas de desenvolvimento web. No geral, ele será muito bem aproveitado por estudantes e profissionais das mais variadas áreas do conhecimento, especialmente áreas da comunicação, design e publicidade, e claro, pelos usuários comuns que querem apenas aprender a usar o Inkscape, seja por hobby ou interesse profissional, esse livro é para vocês. "
   ]
  },
  {
   "cell_type": "code",
   "execution_count": null,
   "metadata": {},
   "outputs": [],
   "source": []
  }
 ],
 "metadata": {
  "celltoolbar": "Edit Metadata",
  "kernelspec": {
   "display_name": "Python 3",
   "language": "python",
   "name": "python3"
  },
  "language_info": {
   "codemirror_mode": {
    "name": "ipython",
    "version": 3
   },
   "file_extension": ".py",
   "mimetype": "text/x-python",
   "name": "python",
   "nbconvert_exporter": "python",
   "pygments_lexer": "ipython3",
   "version": "3.7.2"
  }
 },
 "nbformat": 4,
 "nbformat_minor": 2
}
